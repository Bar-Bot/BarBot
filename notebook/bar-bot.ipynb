{
 "cells": [
  {
   "cell_type": "code",
   "execution_count": 22,
   "metadata": {},
   "outputs": [
    {
     "name": "stdout",
     "output_type": "stream",
     "text": [
      "The autoreload extension is already loaded. To reload it, use:\n",
      "  %reload_ext autoreload\n"
     ]
    }
   ],
   "source": [
    "import numpy as np\n",
    "import gpt_2_simple as gpt2\n",
    "import os\n",
    "import requests\n",
    "import preprocess as pre\n",
    "\n",
    "%load_ext autoreload\n",
    "%autoreload 2"
   ]
  },
  {
   "cell_type": "code",
   "execution_count": 23,
   "metadata": {},
   "outputs": [],
   "source": [
    "model_name = \"124M\"\n",
    "if not os.path.isdir(os.path.join(\"models\", model_name)):\n",
    "    print(f\"Downloading {model_name} model...\")\n",
    "    gpt2.download_gpt2(model_name=model_name)   # model is saved into current directory under /models/124M/"
   ]
  },
  {
   "cell_type": "code",
   "execution_count": 27,
   "metadata": {
    "scrolled": true
   },
   "outputs": [],
   "source": [
    "path = \"../data/by-artist/\"\n",
    "artist = \"Logic\"\n",
    "\n",
    "bars = pre.get_bars(path, artist)\n",
    "bar_path = pre.save_bars(bars, artist)"
   ]
  },
  {
   "cell_type": "code",
   "execution_count": 3,
   "metadata": {},
   "outputs": [
    {
     "name": "stdout",
     "output_type": "stream",
     "text": [
      "WARNING:tensorflow:From c:\\users\\eugene\\anaconda3\\envs\\barbot\\lib\\site-packages\\gpt_2_simple\\src\\sample.py:17: where (from tensorflow.python.ops.array_ops) is deprecated and will be removed in a future version.\n",
      "Instructions for updating:\n",
      "Use tf.where in 2.0, which has the same broadcast rule as np.where\n",
      "Loading checkpoint models\\124M\\model.ckpt\n",
      "INFO:tensorflow:Restoring parameters from models\\124M\\model.ckpt\n"
     ]
    },
    {
     "name": "stderr",
     "output_type": "stream",
     "text": [
      "\r",
      "  0%|                                                                                            | 0/1 [00:00<?, ?it/s]"
     ]
    },
    {
     "name": "stdout",
     "output_type": "stream",
     "text": [
      "Loading dataset...\n"
     ]
    },
    {
     "name": "stderr",
     "output_type": "stream",
     "text": [
      "100%|████████████████████████████████████████████████████████████████████████████████████| 1/1 [00:01<00:00,  1.30s/it]\n"
     ]
    },
    {
     "name": "stdout",
     "output_type": "stream",
     "text": [
      "dataset has 61125 tokens\n",
      "Training...\n",
      "[1 | 134.58] loss=3.22 avg=3.22\n",
      "[2 | 242.99] loss=3.45 avg=3.34\n",
      "Saving checkpoint\\run1\\model-2\n"
     ]
    }
   ],
   "source": [
    "sess = gpt2.start_tf_sess()\n",
    "gpt2.finetune(sess,\n",
    "              bar_path,\n",
    "              model_name=model_name,\n",
    "              steps=2, learning_rate=0.00002)   # steps is max number of training steps"
   ]
  },
  {
   "cell_type": "code",
   "execution_count": 8,
   "metadata": {},
   "outputs": [],
   "source": [
    "output = gpt2.generate(sess, temperature=1, top_k=50, return_as_list=True)"
   ]
  },
  {
   "cell_type": "code",
   "execution_count": 34,
   "metadata": {},
   "outputs": [
    {
     "name": "stdout",
     "output_type": "stream",
     "text": [
      "['\"What is wrong with your idea of freedom? You\\'re a criminal and this is not liberty. You\\'re making a threat not liberty,\" Sen. Tom Cotton said Tuesday.\\n\\nCotton was speaking at a group held at the University of Arkansas on Capitol Hill to condemn the \"unconstitutional\" federal government shutdown which Republicans say could cause tens of thousands more Americans to lose power.\\n\\nThe U.S. government shutdown could be devastating to the nation\\'s economy, and if it runs for more than a little longer, it could also hurt U.S. businesses, he explained in a lengthy interview.\\n\\n\"I would say it\\'s a criminal act,\" he told the audience. \"And that is something I\\'m worried about. ... It\\'s an act of terror and a threat to our country and our citizens.\"\\n\\n\"I would agree that the idea of using this government shutdown as a tactic to attack another country in the world could work,\" Cotton added. \"But if the government fails to work there is something much more sinister than this threat that I don\\'t see that can really do anything and that I don\\'t think is the sort of threat we\\'re talking about.\"\\n\\nRead the full video from Senate Minority Leader Mitch McConnell above.<|endoftext|>KALAMAZOO, MI — Police have determined no drug involved in the slayings of a family of four and a man who lost his home in Kalamazoo over the weekend, but they believe four other people who came to the home on Wednesday evening to kill him probably did what was wrong.\\n\\nDetectives today announced the suspects, identified as Keith H. Jackson and Michael H. Davis, both 18, were charged Tuesday with first-degree murder, aggravated assault, and the third-degree assault to kill a person under 18 at Kalamazoo County jail, charges that could carry up to 15 years in prison and up to life in prison.\\n\\nThe brothers have not been arrested. The family will continue to speak with investigators as they try to find out why H. Jackson and Davis were targeted.\\n\\nRead More<|endoftext|>Greetings Summoners!\\n\\nToday is International (Day 26). After being called up from abroad, please watch our official announcement of the Summoning of Azzinotl\\'s Day: New Summoners.\\n\\nDay 26\\'s new rules include:\\n\\n– Each day in our schedule may also be included on the same account after it. Please take a look at our Schedule of Events so that you can determine what you will be participating in.\\n\\n– As it is in our calendar, we might not be able to add new Summoners until the first day in each week\\'s schedule. This might put your account on hold when the new event comes, especially if you\\'re not a active card holder right now. However, if we have the new event in your current game, it will be counted as one of the Summoners (if it is in the \"active\" category), instead of being added to the roster of that game and then removed. Please note, that when the Summoners have already started their season, they will not be able to be added to the roster until they meet the same requirement as other current Summoners.\\n\\n– All Summoners can be created and Summoned as such as they are available. Please be aware that some Summoners may not qualify for active players, in order to help your character gain victory, or to ensure you are not a new summoner (in-game in the future). If you are an active player, and you want to be added to the Active players list (for the first time), please be sure to post your character pictures on the account website.\\n\\n– For Summoners to join a group, they must do so using the Online Leaderboards to have the required rank and experience. Please make sure to tell anyone that you have a group, and if there is no group yet, make a special reference as soon as possible.\\n\\n– Players can join a team when they have been given a summon, but not when they have just been accepted. During summon, players will not be able to summon when one is given a summon or given new summon (that is, summoned minions with the same effect will not summon in any situations they meet).\\n\\nThis year\\'s Summoning was a bit odd, as we received the first notice of what had been planned. Several participants said it was going to be more of a test of strategy versus ability than the Summoning event. Other participants didn\\'t see it as very unusual. So, this weekend there are still many more details to come.\\n\\nAzzinotl is already going through the same kind of event that players had experienced this season. And, I don\\'t think there are quite as many questions as people had before, as they were just so curious to know more.\\n\\nWe still want you guys, a lot, but now we just need to figure out how to move forward from here on out.<|endoftext|>']\n"
     ]
    }
   ],
   "source": [
    "print(output)"
   ]
  }
 ],
 "metadata": {
  "kernelspec": {
   "display_name": "Python 3",
   "language": "python",
   "name": "python3"
  },
  "language_info": {
   "codemirror_mode": {
    "name": "ipython",
    "version": 3
   },
   "file_extension": ".py",
   "mimetype": "text/x-python",
   "name": "python",
   "nbconvert_exporter": "python",
   "pygments_lexer": "ipython3",
   "version": "3.7.9"
  }
 },
 "nbformat": 4,
 "nbformat_minor": 4
}
